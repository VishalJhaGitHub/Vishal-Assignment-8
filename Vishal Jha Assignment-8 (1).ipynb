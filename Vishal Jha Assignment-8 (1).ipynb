{
 "cells": [
  {
   "cell_type": "code",
   "execution_count": 7,
   "id": "44ef1244-99d2-4114-9384-42a42f7f81c5",
   "metadata": {},
   "outputs": [],
   "source": [
    "#1. You are writing code for a company. The requirement of the company is that you create a python function that will check whether the password entered by the user is correct or not. The function should take the password as input and return the string \"Valid Password\" if the entered password follows the below-given password guidelines else it should return \"Invalid Password\".\n",
    "\n",
    "#Note: 1. The Password should contain at least two uppercase letters and at least two lowercase letters. 2. The Password should contain at least a number and three special characters. 3. The length of the password should be 10 characters long.\n",
    "\n",
    "#Ans\n",
    "\n",
    "def check_password(password):\n",
    "    # Check length\n",
    "    if len(password) != 10:\n",
    "        return \"Invalid Password\"\n",
    "    # Check for at least two uppercase and two lowercase letters\n",
    "    lowercase_count = 0\n",
    "    uppercase_count = 0\n",
    "    for c in password:\n",
    "        if c.islower():\n",
    "            lowercase_count += 1\n",
    "        elif c.isupper():\n",
    "            uppercase_count += 1\n",
    "    if lowercase_count < 2 or uppercase_count < 2:\n",
    "        return \"Invalid Password\"\n",
    "    # Check for at least a number and three special characters\n",
    "    digit_count = 0\n",
    "    special_count = 0\n",
    "    for c in password:\n",
    "        if c.isdigit():\n",
    "            digit_count += 1\n",
    "        elif c in \"!@#$%^&*()_+\":\n",
    "            special_count += 1\n",
    "    if digit_count == 0 or special_count < 3:\n",
    "        return \"Invalid Password\"\n",
    "    return \"Valid Password\""
   ]
  },
  {
   "cell_type": "code",
   "execution_count": 2,
   "id": "f567bb8a-00eb-4ae5-9e12-daeb13809093",
   "metadata": {},
   "outputs": [
    {
     "name": "stdout",
     "output_type": "stream",
     "text": [
      "['cherry']\n"
     ]
    }
   ],
   "source": [
    "#Q2 Ans\n",
    "\n",
    "#1. \n",
    "\n",
    "string_list = ['apple', 'banana', 'cherry', 'grape']\n",
    "starts_with_c = list(filter(lambda x: x.startswith('c'), string_list))\n",
    "print(starts_with_c)"
   ]
  },
  {
   "cell_type": "code",
   "execution_count": 3,
   "id": "de98bf17-73d6-4108-a5f7-8c6d56036acf",
   "metadata": {},
   "outputs": [
    {
     "name": "stdout",
     "output_type": "stream",
     "text": [
      "['123', '0']\n"
     ]
    }
   ],
   "source": [
    "#Q2 Ans\n",
    "\n",
    "#2. \n",
    "\n",
    "string_list = ['123', '3.14', '-100', 'ten', '0']\n",
    "numeric_strings = list(filter(lambda x: x.isnumeric(), string_list))\n",
    "print(numeric_strings)"
   ]
  },
  {
   "cell_type": "code",
   "execution_count": 5,
   "id": "a13816ef-4b9f-4c5e-aab0-9f18fe726cfd",
   "metadata": {},
   "outputs": [
    {
     "name": "stdout",
     "output_type": "stream",
     "text": [
      "[('orange', 80), ('mango', 99), ('grapes', 1000)]\n"
     ]
    }
   ],
   "source": [
    "#Q2 Ans\n",
    "\n",
    "#3. \n",
    "\n",
    "import operator\n",
    "fruits = [(\"mango\", 99), (\"orange\", 80), (\"grapes\", 1000)]\n",
    "sorted_fruits = sorted(fruits, key=lambda x: operator.itemgetter(1)(x))\n",
    "print(sorted_fruits)"
   ]
  },
  {
   "cell_type": "code",
   "execution_count": 7,
   "id": "cdd385a4-0569-4e66-b361-091c8eb6f09d",
   "metadata": {},
   "outputs": [
    {
     "name": "stdout",
     "output_type": "stream",
     "text": [
      "[1, 4, 9, 16, 25, 36, 49, 64, 81, 100]\n"
     ]
    }
   ],
   "source": [
    "#Q2 Ans\n",
    "\n",
    "#4.\n",
    "\n",
    "squares = [x**2 for x in range(1, 11)]\n",
    "print(squares)"
   ]
  },
  {
   "cell_type": "code",
   "execution_count": 9,
   "id": "c8c164b8-ec42-4d70-b217-11edbdbdde99",
   "metadata": {},
   "outputs": [
    {
     "name": "stdout",
     "output_type": "stream",
     "text": [
      "[1.0, 1.26, 1.44, 1.59, 1.71, 1.82, 1.91, 2.0, 2.08, 2.15]\n"
     ]
    }
   ],
   "source": [
    "#Q2 Ans\n",
    "\n",
    "#5.\n",
    "\n",
    "import math\n",
    "cubes = [round(math.pow(x, 1/3), 2) for x in range(1, 11)]\n",
    "print(cubes)"
   ]
  },
  {
   "cell_type": "code",
   "execution_count": 11,
   "id": "780acf70-8391-4e86-a854-82e9fd1982d7",
   "metadata": {},
   "outputs": [
    {
     "name": "stdout",
     "output_type": "stream",
     "text": [
      "False\n",
      "True\n"
     ]
    }
   ],
   "source": [
    "#Q2 Ans\n",
    "\n",
    "#6.\n",
    "\n",
    "is_even = lambda x: x % 2 == 0\n",
    "print(is_even(5))\n",
    "print(is_even(6))"
   ]
  },
  {
   "cell_type": "code",
   "execution_count": 12,
   "id": "c9eb8068-7271-4580-a3d3-beb51917b392",
   "metadata": {},
   "outputs": [
    {
     "name": "stdout",
     "output_type": "stream",
     "text": [
      "[1, 3, 5, 7, 9]\n"
     ]
    }
   ],
   "source": [
    "#Q2 Ans\n",
    "\n",
    "#7.\n",
    "\n",
    "nums = [1, 2, 3, 4, 5, 6, 7, 8, 9, 10]\n",
    "odd_nums = list(filter(lambda x: x % 2 != 0, nums))\n",
    "print(odd_nums)"
   ]
  },
  {
   "cell_type": "code",
   "execution_count": 13,
   "id": "f20995ca-5b36-47fa-9e96-b07640821178",
   "metadata": {},
   "outputs": [
    {
     "name": "stdout",
     "output_type": "stream",
     "text": [
      "[1, 2, 3, 4, 5, 6]\n",
      "[-1, -2, -3, -4, -5]\n"
     ]
    }
   ],
   "source": [
    "#Q2 Ans\n",
    "\n",
    "#8.\n",
    "\n",
    "nums = [1, 2, 3, 4, 5, 6, -1, -2, -3, -4, -5, 0]\n",
    "positive_nums = [x for x in nums if x > 0]\n",
    "negative_nums = [x for x in nums if x < 0]\n",
    "print(positive_nums)\n",
    "print(negative_nums)"
   ]
  },
  {
   "cell_type": "code",
   "execution_count": null,
   "id": "08984ea1-e526-447f-9931-8aca41771577",
   "metadata": {},
   "outputs": [],
   "source": []
  }
 ],
 "metadata": {
  "kernelspec": {
   "display_name": "Python 3 (ipykernel)",
   "language": "python",
   "name": "python3"
  },
  "language_info": {
   "codemirror_mode": {
    "name": "ipython",
    "version": 3
   },
   "file_extension": ".py",
   "mimetype": "text/x-python",
   "name": "python",
   "nbconvert_exporter": "python",
   "pygments_lexer": "ipython3",
   "version": "3.10.8"
  }
 },
 "nbformat": 4,
 "nbformat_minor": 5
}
